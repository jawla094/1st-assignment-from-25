{
 "cells": [
  {
   "cell_type": "markdown",
   "id": "ba823d25-fe21-4ee2-bfa5-d0883dd7856c",
   "metadata": {},
   "source": [
    "# 1.take the input from the user and find whether number is prime or not"
   ]
  },
  {
   "cell_type": "code",
   "execution_count": 8,
   "id": "ae0f5b7d-22b7-461d-aa67-8ce2eae86c3d",
   "metadata": {},
   "outputs": [
    {
     "name": "stdout",
     "output_type": "stream",
     "text": [
      "True\n",
      "False\n"
     ]
    }
   ],
   "source": [
    "def is_prime(num):\n",
    "    try:\n",
    "        if num < 2:\n",
    "            return False\n",
    "        for i in range(2,int(num ** 0.5) + 1):\n",
    "            if num % i == 0:\n",
    "                return False\n",
    "        return True\n",
    "    except Exception as e:\n",
    "        print(e)\n",
    "print(is_prime(7))\n",
    "print(is_prime(9))\n",
    "        "
   ]
  },
  {
   "cell_type": "markdown",
   "id": "15ef7e44-0ff5-4ea8-920a-102d31d9a557",
   "metadata": {},
   "source": [
    "# 2 reverse a stgring using for loop"
   ]
  },
  {
   "cell_type": "code",
   "execution_count": 9,
   "id": "f545c695-c4b4-4365-a450-014c9fe53735",
   "metadata": {},
   "outputs": [
    {
     "name": "stdout",
     "output_type": "stream",
     "text": [
      "nohtyp \n"
     ]
    }
   ],
   "source": [
    "def reverse_string(text):\n",
    "    try:\n",
    "        rev = \" \"\n",
    "        for i in text:\n",
    "            rev = i + rev\n",
    "        return rev\n",
    "    except Exception as e:\n",
    "        print(e)\n",
    "print(reverse_string(\"python\"))"
   ]
  },
  {
   "cell_type": "markdown",
   "id": "65330214-ff2d-4c02-b606-aa323ef5e3e2",
   "metadata": {},
   "source": [
    "# 3. to check number is palindrome"
   ]
  },
  {
   "cell_type": "code",
   "execution_count": 11,
   "id": "7aaa5025-003b-4f5a-b851-cd1bb14e3934",
   "metadata": {},
   "outputs": [
    {
     "name": "stdout",
     "output_type": "stream",
     "text": [
      "False\n",
      "True\n"
     ]
    }
   ],
   "source": [
    "def is_palindrome(text):\n",
    "    try:\n",
    "        return text == text[::-1]\n",
    "    except Exception as e:\n",
    "        print(e)\n",
    "print(is_palindrome(\"python\"))\n",
    "print(is_palindrome(\"maam\"))"
   ]
  },
  {
   "cell_type": "markdown",
   "id": "f11bc0ec-c731-41ad-82b3-96d7dbc021c2",
   "metadata": {},
   "source": [
    "# 4. factorial of a number"
   ]
  },
  {
   "cell_type": "code",
   "execution_count": 16,
   "id": "c968b896-62d8-469a-82d6-0487167113bb",
   "metadata": {},
   "outputs": [
    {
     "name": "stdout",
     "output_type": "stream",
     "text": [
      "Number should be positive\n",
      "None\n",
      "120\n"
     ]
    }
   ],
   "source": [
    "def is_factorial(num):\n",
    "    try:\n",
    "        if num < 0:\n",
    "            raise ValueError(\"Number should be positive\")\n",
    "        fact = 1\n",
    "        for i in range(1,num + 1):\n",
    "            fact = fact * i\n",
    "        return fact\n",
    "    except Exception as e:\n",
    "        print(e)\n",
    "print(is_factorial(-1))\n",
    "print(is_factorial(5))"
   ]
  },
  {
   "cell_type": "markdown",
   "id": "4cf9e18f-1384-4fe5-8b6f-e735a58f65fe",
   "metadata": {},
   "source": [
    "# 5. to find second largest element in a list"
   ]
  },
  {
   "cell_type": "code",
   "execution_count": 4,
   "id": "0b3422be-e0ca-49a1-9232-39a15811ba33",
   "metadata": {},
   "outputs": [
    {
     "name": "stdin",
     "output_type": "stream",
     "text": [
      "enter numbers separated by space: 3 4 14 43 26\n"
     ]
    },
    {
     "name": "stdout",
     "output_type": "stream",
     "text": [
      "largest 43\n",
      "second_largest 26\n"
     ]
    }
   ],
   "source": [
    "def second_largest():\n",
    "    try:\n",
    "        num = list(map(int,input(\"enter numbers separated by space:\").split()))\n",
    "        if len(num) < 2:\n",
    "            raise ValueError(\"At least two numbers are required\")\n",
    "        if num[0] > num[1]:\n",
    "            largest = num[0]\n",
    "            second_largest = num[1]\n",
    "        else:\n",
    "            largest = num[1]\n",
    "            second_largest = num[0]\n",
    "        for i in range(2,len(num)):\n",
    "            if num[i] > largest:\n",
    "                second_largest = largest        \n",
    "                largest = num[i]\n",
    "            elif num[i] > second_largest and num[i]!= largest:\n",
    "                second_largest = num[i]\n",
    "        if largest == second_largest:\n",
    "            print(\"all numbers are same.Second largest does not exist\")\n",
    "        else:\n",
    "            print(\"largest\",largest)\n",
    "            print(\"second_largest\",second_largest)\n",
    "    except ValueError as ve:\n",
    "        print(ve)\n",
    "    except Exception as e:\n",
    "        print(e)\n",
    "second_largest()"
   ]
  },
  {
   "cell_type": "code",
   "execution_count": null,
   "id": "df69ca6d-3708-4bd0-8027-eb089751f6bf",
   "metadata": {},
   "outputs": [],
   "source": []
  }
 ],
 "metadata": {
  "kernelspec": {
   "display_name": "Python 3 (ipykernel)",
   "language": "python",
   "name": "python3"
  },
  "language_info": {
   "codemirror_mode": {
    "name": "ipython",
    "version": 3
   },
   "file_extension": ".py",
   "mimetype": "text/x-python",
   "name": "python",
   "nbconvert_exporter": "python",
   "pygments_lexer": "ipython3",
   "version": "3.13.5"
  }
 },
 "nbformat": 4,
 "nbformat_minor": 5
}
