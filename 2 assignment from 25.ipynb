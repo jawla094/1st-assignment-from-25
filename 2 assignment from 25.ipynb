{
 "cells": [
  {
   "cell_type": "markdown",
   "id": "8b5848e7-6ac5-44c6-aaa0-fd5df1fa4611",
   "metadata": {},
   "source": [
    "# 1. Write a Python program to convert kilometers to miles?"
   ]
  },
  {
   "cell_type": "code",
   "execution_count": 9,
   "id": "8d84d481-14cb-4c06-bc0f-14b9f1a633ba",
   "metadata": {},
   "outputs": [
    {
     "name": "stdin",
     "output_type": "stream",
     "text": [
      "Enter number of kilometer: 1\n"
     ]
    },
    {
     "name": "stdout",
     "output_type": "stream",
     "text": [
      "0.621371\n"
     ]
    }
   ],
   "source": [
    "kilometer = float(input(\"Enter number of kilometer:\"))\n",
    "miles = kilometer * 0.621371\n",
    "print(miles)"
   ]
  },
  {
   "cell_type": "markdown",
   "id": "e7ea0a55-a805-4f11-b484-4c2564eb23e4",
   "metadata": {},
   "source": [
    "# 2. Write a Python program to convert Celsius to Fahrenheit?"
   ]
  },
  {
   "cell_type": "code",
   "execution_count": 10,
   "id": "bde098ab-8388-4df9-a8b3-128274cac796",
   "metadata": {},
   "outputs": [
    {
     "name": "stdin",
     "output_type": "stream",
     "text": [
      "Enter temperature in  celcius: 37\n"
     ]
    },
    {
     "name": "stdout",
     "output_type": "stream",
     "text": [
      "Temperature in fahrenheit: 98.6\n"
     ]
    }
   ],
   "source": [
    "cel = int(input(\"Enter temperature in  celcius:\"))\n",
    "Fahrenheit = (cel * 9/5)+32\n",
    "print(\"Temperature in fahrenheit:\",Fahrenheit)\n"
   ]
  },
  {
   "cell_type": "markdown",
   "id": "509840a3-af20-4904-b084-60eb07baa025",
   "metadata": {},
   "source": [
    "# 3. Write a Python program to display calendar?"
   ]
  },
  {
   "cell_type": "code",
   "execution_count": 6,
   "id": "3d80f532-f11b-4309-b19d-821416fe1cc2",
   "metadata": {},
   "outputs": [
    {
     "name": "stdin",
     "output_type": "stream",
     "text": [
      "Enter the value of month 5\n",
      "Enter the value of year 2025\n"
     ]
    },
    {
     "name": "stdout",
     "output_type": "stream",
     "text": [
      "      May 2025\n",
      "Mo Tu We Th Fr Sa Su\n",
      "          1  2  3  4\n",
      " 5  6  7  8  9 10 11\n",
      "12 13 14 15 16 17 18\n",
      "19 20 21 22 23 24 25\n",
      "26 27 28 29 30 31\n",
      "\n"
     ]
    }
   ],
   "source": [
    "import calendar\n",
    "month = int(input(\"Enter the value of month\"))\n",
    "year = int(input(\"Enter the value of year\"))\n",
    "print(calendar.month(year,month))"
   ]
  },
  {
   "cell_type": "markdown",
   "id": "38f63210-b9a3-4464-b5f9-b05adb9acb05",
   "metadata": {},
   "source": [
    "# 4. Write a Python program to solve quadratic equation?"
   ]
  },
  {
   "cell_type": "code",
   "execution_count": 12,
   "id": "46cd51e2-33d0-4c7b-b847-5ce8bceab00b",
   "metadata": {},
   "outputs": [
    {
     "name": "stdin",
     "output_type": "stream",
     "text": [
      "Enter a: 4\n",
      "Enter b: 5\n",
      "Enter c: 6\n"
     ]
    },
    {
     "name": "stdout",
     "output_type": "stream",
     "text": [
      "The roots are: (-0.625+1.0532687216470449j) and (-0.625+1.0532687216470449j)\n"
     ]
    }
   ],
   "source": [
    "import cmath\n",
    "\n",
    "a = float(input(\"Enter a:\"))\n",
    "b = float(input(\"Enter b:\"))\n",
    "c = float(input(\"Enter c:\"))\n",
    "\n",
    "d = (b**2) - (4*a*c)\n",
    "\n",
    "root1 = (-b + cmath.sqrt(d)) / (2*a)\n",
    "root2 = (-b + cmath.sqrt(d)) / (2*a)\n",
    "\n",
    "print(\"The roots are:\",root1, \"and\",root2)"
   ]
  },
  {
   "cell_type": "markdown",
   "id": "9a8ebad9-90f4-496c-8ff5-526296670190",
   "metadata": {},
   "source": [
    "# 5. Write a Python program to swap two variables without temp variable?"
   ]
  },
  {
   "cell_type": "code",
   "execution_count": 7,
   "id": "fb8dc2f2-70f5-4244-bba6-c159d813ad26",
   "metadata": {},
   "outputs": [
    {
     "name": "stdin",
     "output_type": "stream",
     "text": [
      "Enter value of a 2\n",
      "Enter value of b 3\n"
     ]
    },
    {
     "name": "stdout",
     "output_type": "stream",
     "text": [
      "Before swapping a = 2 and b = 3\n",
      " after swapping a = 3 and b = 2\n"
     ]
    }
   ],
   "source": [
    "a  = int(input(\"Enter value of a\"))\n",
    "b = int(input(\"Enter value of b\"))\n",
    "print(f\"Before swapping a = {a} and b = {b}\")\n",
    "a,b = b,a \n",
    "print(f\" after swapping a = {a} and b = {b}\")\n"
   ]
  },
  {
   "cell_type": "code",
   "execution_count": null,
   "id": "660bc232-4679-4bcf-8fbe-fbf10dba710f",
   "metadata": {},
   "outputs": [],
   "source": []
  }
 ],
 "metadata": {
  "kernelspec": {
   "display_name": "Python 3 (ipykernel)",
   "language": "python",
   "name": "python3"
  },
  "language_info": {
   "codemirror_mode": {
    "name": "ipython",
    "version": 3
   },
   "file_extension": ".py",
   "mimetype": "text/x-python",
   "name": "python",
   "nbconvert_exporter": "python",
   "pygments_lexer": "ipython3",
   "version": "3.13.5"
  }
 },
 "nbformat": 4,
 "nbformat_minor": 5
}
