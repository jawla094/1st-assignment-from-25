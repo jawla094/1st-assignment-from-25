{
 "cells": [
  {
   "cell_type": "markdown",
   "id": "4c454f52-7558-4da0-9f25-ac1f30e6d520",
   "metadata": {},
   "source": [
    "# 1. Write a Python program to print \"Hello Python\"?"
   ]
  },
  {
   "cell_type": "code",
   "execution_count": 2,
   "id": "fc17f165-bb82-4dfd-9a89-e6d089be735d",
   "metadata": {},
   "outputs": [
    {
     "name": "stdout",
     "output_type": "stream",
     "text": [
      "Hello Python\n"
     ]
    }
   ],
   "source": [
    "print(\"Hello Python\")"
   ]
  },
  {
   "cell_type": "markdown",
   "id": "736f6a6a-1825-457d-aabc-f7f195b67ccc",
   "metadata": {},
   "source": [
    "# 2 Write a Python program to do arithmetical operations addition and division.?"
   ]
  },
  {
   "cell_type": "code",
   "execution_count": 4,
   "id": "fdd5d9c2-408e-459d-836d-f361123024f2",
   "metadata": {},
   "outputs": [
    {
     "name": "stdin",
     "output_type": "stream",
     "text": [
      "Enter first number 10\n",
      "Enter second number 5\n"
     ]
    },
    {
     "name": "stdout",
     "output_type": "stream",
     "text": [
      "Addition of two number: 15\n",
      "divsion of two number: 2.0\n"
     ]
    }
   ],
   "source": [
    "num1 = int(input(\"Enter first number\"))\n",
    "num2 = int(input(\"Enter second number\"))\n",
    "add = num1 + num2\n",
    "print(\"Addition of two number:\",add)\n",
    "division = num1/ num2\n",
    "print(\"divsion of two number:\",division)"
   ]
  },
  {
   "cell_type": "markdown",
   "id": "1bf8f002-4456-4810-a54d-d13ff62788da",
   "metadata": {},
   "source": [
    " # 3. Write a Python program to find the area of a triangle?"
   ]
  },
  {
   "cell_type": "code",
   "execution_count": 18,
   "id": "641120cb-4bf3-4afc-98ba-afdf5934316d",
   "metadata": {},
   "outputs": [
    {
     "name": "stdin",
     "output_type": "stream",
     "text": [
      "Enter value of d: 5\n",
      "Enter value of e: 7\n",
      "Enter value of f: 9\n"
     ]
    },
    {
     "name": "stdout",
     "output_type": "stream",
     "text": [
      "Area of triangle 17.41228014936585\n"
     ]
    }
   ],
   "source": [
    "\n",
    "import math \n",
    "d = float(input(\"Enter value of d:\"))\n",
    "e = float(input(\"Enter value of e:\"))\n",
    "f = float(input(\"Enter value of f:\"))\n",
    "s = (d + e + f)/2\n",
    "area = math.sqrt(s*(s-d)*(s-e)*(s-f))\n",
    "print(\"Area of triangle\",area)\n"
   ]
  },
  {
   "cell_type": "markdown",
   "id": "286be757-a2d7-4866-9fe2-3d5a424b621b",
   "metadata": {},
   "source": [
    "# 4. Write a Python program to swap two variables?"
   ]
  },
  {
   "cell_type": "code",
   "execution_count": 8,
   "id": "f1e95fcb-abb4-4be6-b7ce-19346d31244f",
   "metadata": {},
   "outputs": [
    {
     "name": "stdin",
     "output_type": "stream",
     "text": [
      "enter value of a : 10\n",
      "enter value of b: 20\n"
     ]
    },
    {
     "name": "stdout",
     "output_type": "stream",
     "text": [
      "before swapping:a=  10 , b = 20\n",
      " after swapping:a=  20 , b = 10\n"
     ]
    }
   ],
   "source": [
    "a = int(input(\"enter value of a :\"))\n",
    "b = int(input(\"enter value of b:\"))\n",
    "print(f\"before swapping:a=  {a} , b = {b}\")\n",
    "a,b = b,a\n",
    "print(f\" after swapping:a=  {a} , b = {b}\")"
   ]
  },
  {
   "cell_type": "markdown",
   "id": "b14f6bf8-55b4-4a40-b107-0ce8388d8806",
   "metadata": {},
   "source": [
    "#  5. Write a Python program to generate a random number"
   ]
  },
  {
   "cell_type": "code",
   "execution_count": 14,
   "id": "07fbbfcf-c46c-458c-a7f0-fd7320e4e75b",
   "metadata": {},
   "outputs": [
    {
     "name": "stdout",
     "output_type": "stream",
     "text": [
      "92\n"
     ]
    }
   ],
   "source": [
    "import random\n",
    "num = random.randint(1,100)\n",
    "print(num)"
   ]
  }
 ],
 "metadata": {
  "kernelspec": {
   "display_name": "Python 3 (ipykernel)",
   "language": "python",
   "name": "python3"
  },
  "language_info": {
   "codemirror_mode": {
    "name": "ipython",
    "version": 3
   },
   "file_extension": ".py",
   "mimetype": "text/x-python",
   "name": "python",
   "nbconvert_exporter": "python",
   "pygments_lexer": "ipython3",
   "version": "3.13.5"
  }
 },
 "nbformat": 4,
 "nbformat_minor": 5
}
